{
  "nbformat": 4,
  "nbformat_minor": 0,
  "metadata": {
    "colab": {
      "provenance": [],
      "authorship_tag": "ABX9TyOoIoXivWi6gLkhDd5co65D",
      "include_colab_link": true
    },
    "kernelspec": {
      "name": "python3",
      "display_name": "Python 3"
    },
    "language_info": {
      "name": "python"
    }
  },
  "cells": [
    {
      "cell_type": "markdown",
      "metadata": {
        "id": "view-in-github",
        "colab_type": "text"
      },
      "source": [
        "<a href=\"https://colab.research.google.com/github/Tejashwinicb2004/machinelearning/blob/main/NB_Scratch.ipynb\" target=\"_parent\"><img src=\"https://colab.research.google.com/assets/colab-badge.svg\" alt=\"Open In Colab\"/></a>"
      ]
    },
    {
      "cell_type": "code",
      "execution_count": 1,
      "metadata": {
        "id": "jEV8skVsKRcb"
      },
      "outputs": [],
      "source": [
        "import pandas as pd"
      ]
    },
    {
      "cell_type": "code",
      "source": [
        "df = pd.read_csv('PlayTennis_NB_Example.csv')\n",
        "\n",
        "# Display the first 5 rows of the dataset\n",
        "print(df.head())"
      ],
      "metadata": {
        "colab": {
          "base_uri": "https://localhost:8080/"
        },
        "id": "8P4iO97pqiD0",
        "outputId": "5a39ce56-a836-40f1-b557-580785fac414"
      },
      "execution_count": 3,
      "outputs": [
        {
          "output_type": "stream",
          "name": "stdout",
          "text": [
            "  Day   Outlook Temperature Humidity    Wind PlayTennis\n",
            "0  D1     Sunny         Hot     High    Weak         No\n",
            "1  D2     Sunny         Hot     High  Strong         No\n",
            "2  D3  Overcast         Hot     High    Weak        Yes\n",
            "3  D4      Rain        Mild     High    Weak        Yes\n",
            "4  D5      Rain        Cool   Normal    Weak        Yes\n"
          ]
        }
      ]
    },
    {
      "cell_type": "code",
      "source": [
        "test_case = {'Outlook': 'Sunny', 'Temperature': 'Cool', 'Humidity': 'High', 'Wind': 'Strong'}\n",
        "\n",
        "# Calculate the prior probabilities for each class label\n",
        "prior_probabilities = df['PlayTennis'].value_counts(normalize=True).to_dict()\n",
        "\n",
        "# Round the prior probabilities to 2 decimal places\n",
        "prior_probabilities = {k: round(v, 2) for k, v in prior_probabilities.items()}\n",
        "print(\"Rounded Prior Probabilities: \", prior_probabilities)"
      ],
      "metadata": {
        "colab": {
          "base_uri": "https://localhost:8080/"
        },
        "id": "HoLuJTzSrWyK",
        "outputId": "5de4b4ac-d917-4900-a477-34ab574ffbda"
      },
      "execution_count": 4,
      "outputs": [
        {
          "output_type": "stream",
          "name": "stdout",
          "text": [
            "Rounded Prior Probabilities:  {'Yes': 0.64, 'No': 0.36}\n"
          ]
        }
      ]
    },
    {
      "cell_type": "code",
      "source": [
        "likelihood_probabilities = {}\n",
        "\n",
        "# Exclude the target variable and the Day columen from the features\n",
        "for feature in df.columns[1:-1]:\n",
        "    likelihood_probabilities[feature] = {}\n",
        "    for class_label in df['PlayTennis'].unique():\n",
        "        # Calculate the likelihood probability for each feature given the class label\n",
        "        likelihood_probabilities[feature][class_label] = df[df['PlayTennis'] == class_label][feature].value_counts(normalize=True).to_dict()\n",
        "        # Round the likelihood probabilities to 2 decimal places\n",
        "        likelihood_probabilities[feature][class_label] = {k: round(v, 2) for k, v in likelihood_probabilities[feature][class_label].items()}\n",
        "        print(f\"Likelihood Probabilities for {feature} given {class_label}: \", likelihood_probabilities[feature][class_label])"
      ],
      "metadata": {
        "colab": {
          "base_uri": "https://localhost:8080/"
        },
        "id": "A0fwb5N1rblj",
        "outputId": "dcc9a3d9-df1c-4268-a97e-780c59fd2cfe"
      },
      "execution_count": 5,
      "outputs": [
        {
          "output_type": "stream",
          "name": "stdout",
          "text": [
            "Likelihood Probabilities for Outlook given No:  {'Sunny': 0.6, 'Rain': 0.4}\n",
            "Likelihood Probabilities for Outlook given Yes:  {'Overcast': 0.44, 'Rain': 0.33, 'Sunny': 0.22}\n",
            "Likelihood Probabilities for Temperature given No:  {'Hot': 0.4, 'Mild': 0.4, 'Cool': 0.2}\n",
            "Likelihood Probabilities for Temperature given Yes:  {'Mild': 0.44, 'Cool': 0.33, 'Hot': 0.22}\n",
            "Likelihood Probabilities for Humidity given No:  {'High': 0.8, 'Normal': 0.2}\n",
            "Likelihood Probabilities for Humidity given Yes:  {'Normal': 0.67, 'High': 0.33}\n",
            "Likelihood Probabilities for Wind given No:  {'Strong': 0.6, 'Weak': 0.4}\n",
            "Likelihood Probabilities for Wind given Yes:  {'Weak': 0.67, 'Strong': 0.33}\n"
          ]
        }
      ]
    },
    {
      "cell_type": "code",
      "source": [
        "prob_yes = prior_probabilities['Yes']\n",
        "for feature, value in test_case.items():\n",
        "    prob_yes *= likelihood_probabilities[feature]['Yes'].get(value, 0)\n",
        "\n",
        "#print the probability of PlayTennis = Yes with two decimal places\n",
        "\n",
        "print(\"Probability of PlayTennis = Yes: \", round(prob_yes,4))"
      ],
      "metadata": {
        "colab": {
          "base_uri": "https://localhost:8080/"
        },
        "id": "nassODDPrf41",
        "outputId": "fb2c4bce-8e97-458a-d444-5b4d876ca52c"
      },
      "execution_count": 6,
      "outputs": [
        {
          "output_type": "stream",
          "name": "stdout",
          "text": [
            "Probability of PlayTennis = Yes:  0.0051\n"
          ]
        }
      ]
    },
    {
      "cell_type": "code",
      "source": [
        "prob_no = prior_probabilities['No']\n",
        "for feature, value in test_case.items():\n",
        "    prob_no *= likelihood_probabilities[feature]['No'].get(value, 0)\n",
        "\n",
        "#print the probability of PlayTennis = Yes with two decimal places\n",
        "\n",
        "print(\"Probability of PlayTennis = No: \", round(prob_no,4))"
      ],
      "metadata": {
        "colab": {
          "base_uri": "https://localhost:8080/"
        },
        "id": "qLVACH01rnv6",
        "outputId": "9e05af54-a2fd-46b5-8246-ea67df1851ce"
      },
      "execution_count": 7,
      "outputs": [
        {
          "output_type": "stream",
          "name": "stdout",
          "text": [
            "Probability of PlayTennis = No:  0.0207\n"
          ]
        }
      ]
    },
    {
      "cell_type": "code",
      "source": [
        "if prob_yes > prob_no:\n",
        "    print(\"The predicted class is: PlayTennis = Yes\")\n",
        "else:\n",
        "    print(\"The predicted class is: PlayTennis = No\")"
      ],
      "metadata": {
        "colab": {
          "base_uri": "https://localhost:8080/"
        },
        "id": "8AkojkVZrujb",
        "outputId": "367c25e5-942b-40a4-e21f-6a7fcc36bfa0"
      },
      "execution_count": 8,
      "outputs": [
        {
          "output_type": "stream",
          "name": "stdout",
          "text": [
            "The predicted class is: PlayTennis = No\n"
          ]
        }
      ]
    },
    {
      "cell_type": "code",
      "source": [
        "from sklearn.naive_bayes import GaussianNB\n",
        "from sklearn.model_selection import train_test_split\n",
        "from sklearn.metrics import accuracy_score, classification_report, confusion_matrix\n",
        "from sklearn.preprocessing import LabelEncoder\n",
        "import numpy as np\n",
        "\n",
        "# Load the dataset\n",
        "df = pd.read_csv('PlayTennis_NB_Example.csv')\n",
        "df = df.drop(columns=['Day']) # Drop the 'Day' column as it is not needed for classification\n",
        "\n",
        "# Encode categorical features using LabelEncoder\n",
        "label_encoders = {}\n",
        "for column in df.columns:\n",
        "    if df[column].dtype == 'object':\n",
        "        le = LabelEncoder()\n",
        "        df[column] = le.fit_transform(df[column])\n",
        "        label_encoders[column] = le\n",
        "        # Display the mapping for the column without showing int64()\n",
        "        mapping = {original: int(encoded) for original, encoded in zip(le.classes_, le.transform(le.classes_))}\n",
        "        print(f\"Label Encoding for {column}: {mapping}\")\n",
        "\n",
        "\n",
        "\n",
        "# Split the dataset into features and target variable\n",
        "X = df.drop(columns=['PlayTennis'])\n",
        "y = df['PlayTennis']\n",
        "\n",
        "# Split the dataset into training and testing sets\n",
        "X_train, X_test, y_train, y_test = train_test_split(X, y, test_size=0.2, random_state=42)\n",
        "\n",
        "# Create and train the Gaussian Naive Bayes model\n",
        "gnb = GaussianNB()\n",
        "gnb.fit(X_train, y_train)\n",
        "\n",
        "# Make predictions on the test set\n",
        "y_pred = gnb.predict(X_test)\n",
        "\n",
        "# Calculate accuracy and print classification report\n",
        "accuracy = accuracy_score(y_test, y_pred)\n",
        "print(\"Accuracy in %: \", round(accuracy,2)*100)"
      ],
      "metadata": {
        "colab": {
          "base_uri": "https://localhost:8080/"
        },
        "id": "l35JEqZBr-rl",
        "outputId": "56831dc4-3004-4326-c128-094f31a3cbe3"
      },
      "execution_count": 9,
      "outputs": [
        {
          "output_type": "stream",
          "name": "stdout",
          "text": [
            "Label Encoding for Outlook: {'Overcast': 0, 'Rain': 1, 'Sunny': 2}\n",
            "Label Encoding for Temperature: {'Cool': 0, 'Hot': 1, 'Mild': 2}\n",
            "Label Encoding for Humidity: {'High': 0, 'Normal': 1}\n",
            "Label Encoding for Wind: {'Strong': 0, 'Weak': 1}\n",
            "Label Encoding for PlayTennis: {'No': 0, 'Yes': 1}\n",
            "Accuracy in %:  100.0\n"
          ]
        }
      ]
    },
    {
      "cell_type": "code",
      "source": [
        "test_case_encoded = pd.DataFrame({\n",
        "    'Outlook': label_encoders['Outlook'].transform([test_case['Outlook']])[0],\n",
        "    'Temperature': label_encoders['Temperature'].transform([test_case['Temperature']])[0],\n",
        "    'Humidity': label_encoders['Humidity'].transform([test_case['Humidity']])[0],\n",
        "    'Wind': label_encoders['Wind'].transform([test_case['Wind']])[0]\n",
        "}, index=[0])  # Create a DataFrame with feature names as columns"
      ],
      "metadata": {
        "id": "92qUZFGhsJIF"
      },
      "execution_count": 10,
      "outputs": []
    },
    {
      "cell_type": "code",
      "source": [
        "print(\"Encoded Test Case with Feature Names:\")\n",
        "print(test_case_encoded)"
      ],
      "metadata": {
        "colab": {
          "base_uri": "https://localhost:8080/"
        },
        "id": "PNE4AO_UsQPV",
        "outputId": "12bfd344-f675-4e8f-a7e7-b6ae1b6e6670"
      },
      "execution_count": 11,
      "outputs": [
        {
          "output_type": "stream",
          "name": "stdout",
          "text": [
            "Encoded Test Case with Feature Names:\n",
            "   Outlook  Temperature  Humidity  Wind\n",
            "0        2            0         0     0\n"
          ]
        }
      ]
    },
    {
      "cell_type": "code",
      "source": [
        "decoded_test_case = test_case_encoded.copy()\n",
        "for column in decoded_test_case.columns:\n",
        "    decoded_test_case[column] = label_encoders[column].inverse_transform(decoded_test_case[column])\n",
        "print(\"Given Test Case:\")\n",
        "print(decoded_test_case)"
      ],
      "metadata": {
        "colab": {
          "base_uri": "https://localhost:8080/"
        },
        "id": "KDLYaRDqsSXV",
        "outputId": "f07d8a8b-c6fd-41d4-c4d6-d348d81b0cac"
      },
      "execution_count": 12,
      "outputs": [
        {
          "output_type": "stream",
          "name": "stdout",
          "text": [
            "Given Test Case:\n",
            "  Outlook Temperature Humidity    Wind\n",
            "0   Sunny        Cool     High  Strong\n"
          ]
        }
      ]
    },
    {
      "cell_type": "code",
      "source": [
        "predicted_class = gnb.predict(test_case_encoded)[0]\n",
        "predicted_class_label = label_encoders['PlayTennis'].inverse_transform([predicted_class])[0]\n",
        "print(\"Predicted class for the test case:\", predicted_class_label)"
      ],
      "metadata": {
        "colab": {
          "base_uri": "https://localhost:8080/"
        },
        "id": "9EF4mQRVsaAB",
        "outputId": "76e6a9d5-c89e-4199-ceb0-67fc18ce61a9"
      },
      "execution_count": 13,
      "outputs": [
        {
          "output_type": "stream",
          "name": "stdout",
          "text": [
            "Predicted class for the test case: No\n"
          ]
        }
      ]
    }
  ]
}