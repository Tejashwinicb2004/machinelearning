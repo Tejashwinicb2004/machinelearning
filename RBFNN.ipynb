{
  "nbformat": 4,
  "nbformat_minor": 0,
  "metadata": {
    "colab": {
      "provenance": [],
      "authorship_tag": "ABX9TyNdxAdF/T9JKfnKlNgOwkqA",
      "include_colab_link": true
    },
    "kernelspec": {
      "name": "python3",
      "display_name": "Python 3"
    },
    "language_info": {
      "name": "python"
    }
  },
  "cells": [
    {
      "cell_type": "markdown",
      "metadata": {
        "id": "view-in-github",
        "colab_type": "text"
      },
      "source": [
        "<a href=\"https://colab.research.google.com/github/Tejashwinicb2004/machinelearning/blob/main/RBFNN.ipynb\" target=\"_parent\"><img src=\"https://colab.research.google.com/assets/colab-badge.svg\" alt=\"Open In Colab\"/></a>"
      ]
    },
    {
      "cell_type": "code",
      "execution_count": 1,
      "metadata": {
        "id": "ZCoEjMR30N4P"
      },
      "outputs": [],
      "source": [
        "import numpy as np"
      ]
    },
    {
      "cell_type": "code",
      "source": [
        "X = np.array([[0, 0], [0, 1], [1, 0], [1, 1]])\n",
        "Y = np.array([[0], [1], [1], [0]])"
      ],
      "metadata": {
        "id": "M60vQlDt02PL"
      },
      "execution_count": 2,
      "outputs": []
    },
    {
      "cell_type": "code",
      "source": [
        "def generalized_multi_quadric(x1, x2, c=1.0, sigma=1.0):\n",
        "    return np.sqrt(np.linalg.norm(x1 - x2) ** 2 + (c * sigma) ** 2)"
      ],
      "metadata": {
        "id": "jSqa9U6607mj"
      },
      "execution_count": 3,
      "outputs": []
    },
    {
      "cell_type": "code",
      "source": [
        "from sklearn.cluster import KMeans\n",
        "\n",
        "kmeans = KMeans(n_clusters=4).fit(X)\n",
        "centers = kmeans.cluster_centers_"
      ],
      "metadata": {
        "id": "gbxDHfUA1BrL"
      },
      "execution_count": 4,
      "outputs": []
    },
    {
      "cell_type": "code",
      "source": [
        "from scipy.spatial.distance import cdist\n",
        "d_max = np.max(cdist(centers, centers, 'euclidean'))\n",
        "sigma = d_max / np.sqrt(2 * len(centers))"
      ],
      "metadata": {
        "id": "bdgzhPzj1G05"
      },
      "execution_count": 5,
      "outputs": []
    },
    {
      "cell_type": "code",
      "source": [
        "R = np.zeros((X.shape[0], len(centers)))\n",
        "for i in range(X.shape[0]):\n",
        "    for j in range(len(centers)):\n",
        "        R[i, j] = generalized_multi_quadric(X[i], centers[j], sigma)"
      ],
      "metadata": {
        "id": "-EssZ9yF1P7k"
      },
      "execution_count": 6,
      "outputs": []
    },
    {
      "cell_type": "code",
      "source": [
        "W = np.dot(np.linalg.pinv(R), Y)"
      ],
      "metadata": {
        "id": "eVhvj_ox1xdu"
      },
      "execution_count": 7,
      "outputs": []
    },
    {
      "cell_type": "code",
      "source": [
        "def rbf_network(X, centers, sigma, W):\n",
        "    R = np.zeros((X.shape[0], len(centers)))\n",
        "    for i in range(X.shape[0]):\n",
        "        for j in range(len(centers)):\n",
        "            R[i, j] = generalized_multi_quadric(X[i], centers[j], sigma)\n",
        "    return np.dot(R, W)"
      ],
      "metadata": {
        "id": "nRqJYMKE11nY"
      },
      "execution_count": 8,
      "outputs": []
    },
    {
      "cell_type": "code",
      "source": [
        "y_pred = rbf_network(X, centers, sigma, W)"
      ],
      "metadata": {
        "id": "trVZc6mn2ICh"
      },
      "execution_count": 9,
      "outputs": []
    },
    {
      "cell_type": "code",
      "source": [
        "print(y_pred)"
      ],
      "metadata": {
        "colab": {
          "base_uri": "https://localhost:8080/"
        },
        "id": "yYmwjYSE2M_E",
        "outputId": "dc71c18c-7e4b-4d27-ef0e-933ece544c53"
      },
      "execution_count": 10,
      "outputs": [
        {
          "output_type": "stream",
          "name": "stdout",
          "text": [
            "[[1.77635684e-15]\n",
            " [1.00000000e+00]\n",
            " [1.00000000e+00]\n",
            " [0.00000000e+00]]\n"
          ]
        }
      ]
    },
    {
      "cell_type": "code",
      "source": [
        "mse = np.mean(np.square(Y - y_pred))\n",
        "print(\"Mean Squared Error:\",mse)"
      ],
      "metadata": {
        "colab": {
          "base_uri": "https://localhost:8080/"
        },
        "id": "_Vnz7AVP2TJV",
        "outputId": "7bb93560-a8f5-4933-915c-635af6f3fb97"
      },
      "execution_count": 11,
      "outputs": [
        {
          "output_type": "stream",
          "name": "stdout",
          "text": [
            "Mean Squared Error: 9.860761315262648e-31\n"
          ]
        }
      ]
    }
  ]
}